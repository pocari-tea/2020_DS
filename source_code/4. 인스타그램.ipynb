{
 "cells": [
  {
   "cell_type": "code",
   "execution_count": 57,
   "metadata": {},
   "outputs": [],
   "source": [
    "from selenium import webdriver as wb\n",
    "from selenium.webdriver.common.keys import Keys\n",
    "from bs4 import BeautifulSoup as bs\n",
    "import time"
   ]
  },
  {
   "cell_type": "code",
   "execution_count": 58,
   "metadata": {},
   "outputs": [],
   "source": [
    "login_after_url = 'https://www.instagram.com/explore/tags/python/'\n",
    "driver = wb.Chrome()\n",
    "\n",
    "#driver.get(url_main+url_sub)\n",
    "driver.get(login_after_url)"
   ]
  },
  {
   "cell_type": "code",
   "execution_count": 59,
   "metadata": {},
   "outputs": [],
   "source": [
    "#검색어 입력\n",
    "input_search = driver.find_element_by_css_selector('input.XTCLo')\n",
    "input_search.send_keys('leagueoflegends')"
   ]
  },
  {
   "cell_type": "code",
   "execution_count": 60,
   "metadata": {},
   "outputs": [],
   "source": [
    "soup = bs(driver.page_source,'html.parser')"
   ]
  },
  {
   "cell_type": "code",
   "execution_count": 61,
   "metadata": {},
   "outputs": [
    {
     "name": "stdout",
     "output_type": "stream",
     "text": [
      "태그 타이틀 개수 : 51\n",
      "태그 게시물 개수 : 51\n",
      "전체 주소 개수 : 55\n",
      "태그 주소 개수 : 51\n"
     ]
    }
   ],
   "source": [
    "#title가져오기\n",
    "keywords = soup.select('._28KuJ + div > div.uyeeR > span')\n",
    "print(\"태그 타이틀 개수 :\",len(keywords))\n",
    "\n",
    "#게시물 수 가져오기(게시물로 시작하는건 div태그 다른 글은 span태그)\n",
    "boardNum = soup.findAll('div',class_='Fy4o8')\n",
    "print(\"태그 게시물 개수 :\",len(boardNum))\n",
    "\n",
    "#주소 가져오기\n",
    "hrefs = soup.findAll('a',class_='yCE8d')\n",
    "print(\"전체 주소 개수 :\",len(hrefs))\n",
    "\n",
    "#주소안에 tags가 있는것들만 가지고오기\n",
    "new_hrefs = []\n",
    "for index in range(len(hrefs)):\n",
    "    if 'tags' in hrefs[index]['href']:\n",
    "        new_hrefs.append(hrefs[index])\n",
    "print(\"태그 주소 개수 :\",len(new_hrefs))"
   ]
  },
  {
   "cell_type": "code",
   "execution_count": 62,
   "metadata": {},
   "outputs": [
    {
     "name": "stdout",
     "output_type": "stream",
     "text": [
      "검색된 키워드 : #leagueoflegends\n",
      "키워드 주소 : https://www.instagram.com/explore/tags/leagueoflegends/\n",
      "게시물 6,438,129\n",
      "--------------------------------------------------\n",
      "검색된 키워드 : #leagueoflegendsmemes\n",
      "키워드 주소 : https://www.instagram.com/explore/tags/leagueoflegendsmemes/\n",
      "게시물 849,963\n",
      "--------------------------------------------------\n",
      "검색된 키워드 : #leagueoflegendscosplay\n",
      "키워드 주소 : https://www.instagram.com/explore/tags/leagueoflegendscosplay/\n",
      "게시물 712,109\n",
      "--------------------------------------------------\n",
      "검색된 키워드 : #leagueoflegendsfanart\n",
      "키워드 주소 : https://www.instagram.com/explore/tags/leagueoflegendsfanart/\n",
      "게시물 463,589\n",
      "--------------------------------------------------\n",
      "검색된 키워드 : #leagueoflegendsmeme\n",
      "키워드 주소 : https://www.instagram.com/explore/tags/leagueoflegendsmeme/\n",
      "게시물 235,074\n",
      "--------------------------------------------------\n",
      "검색된 키워드 : #leagueoflegendsfunny\n",
      "키워드 주소 : https://www.instagram.com/explore/tags/leagueoflegendsfunny/\n",
      "게시물 216,290\n",
      "--------------------------------------------------\n",
      "검색된 키워드 : #leagueoflegendsart\n",
      "키워드 주소 : https://www.instagram.com/explore/tags/leagueoflegendsart/\n",
      "게시물 210,551\n",
      "--------------------------------------------------\n",
      "검색된 키워드 : #leagueoflegendstr\n",
      "키워드 주소 : https://www.instagram.com/explore/tags/leagueoflegendstr/\n",
      "게시물 199,674\n",
      "--------------------------------------------------\n",
      "검색된 키워드 : #leagueoflegendstroll\n",
      "키워드 주소 : https://www.instagram.com/explore/tags/leagueoflegendstroll/\n",
      "게시물 170,140\n",
      "--------------------------------------------------\n",
      "검색된 키워드 : #leagueoflegendsbrasil\n",
      "키워드 주소 : https://www.instagram.com/explore/tags/leagueoflegendsbrasil/\n",
      "게시물 110,490\n",
      "--------------------------------------------------\n",
      "검색된 키워드 : #leagueoflegendsbr\n",
      "키워드 주소 : https://www.instagram.com/explore/tags/leagueoflegendsbr/\n",
      "게시물 68,860\n",
      "--------------------------------------------------\n",
      "검색된 키워드 : #leagueoflegendsplays\n",
      "키워드 주소 : https://www.instagram.com/explore/tags/leagueoflegendsplays/\n",
      "게시물 63,556\n",
      "--------------------------------------------------\n",
      "검색된 키워드 : #leagueoflegendsvideos\n",
      "키워드 주소 : https://www.instagram.com/explore/tags/leagueoflegendsvideos/\n",
      "게시물 95,153\n",
      "--------------------------------------------------\n",
      "검색된 키워드 : #leagueoflegendsedit\n",
      "키워드 주소 : https://www.instagram.com/explore/tags/leagueoflegendsedit/\n",
      "게시물 27,201\n",
      "--------------------------------------------------\n",
      "검색된 키워드 : #leagueoflegendstattoo\n",
      "키워드 주소 : https://www.instagram.com/explore/tags/leagueoflegendstattoo/\n",
      "게시물 4,862\n",
      "--------------------------------------------------\n",
      "검색된 키워드 : #leagueoflegendsgirls\n",
      "키워드 주소 : https://www.instagram.com/explore/tags/leagueoflegendsgirls/\n",
      "게시물 51,995\n",
      "--------------------------------------------------\n",
      "검색된 키워드 : #leagueoflegendslas\n",
      "키워드 주소 : https://www.instagram.com/explore/tags/leagueoflegendslas/\n",
      "게시물 27,373\n",
      "--------------------------------------------------\n",
      "검색된 키워드 : #leagueoflegendsdrawing\n",
      "키워드 주소 : https://www.instagram.com/explore/tags/leagueoflegendsdrawing/\n",
      "게시물 24,398\n",
      "--------------------------------------------------\n",
      "검색된 키워드 : #leagueoflegendslan\n",
      "키워드 주소 : https://www.instagram.com/explore/tags/leagueoflegendslan/\n",
      "게시물 21,795\n",
      "--------------------------------------------------\n",
      "검색된 키워드 : #leagueoflegendsislife\n",
      "키워드 주소 : https://www.instagram.com/explore/tags/leagueoflegendsislife/\n",
      "게시물 54,107\n",
      "--------------------------------------------------\n",
      "검색된 키워드 : #leagueoflegendsvideo\n",
      "키워드 주소 : https://www.instagram.com/explore/tags/leagueoflegendsvideo/\n",
      "게시물 40,025\n",
      "--------------------------------------------------\n",
      "검색된 키워드 : #leagueoflegends_arts\n",
      "키워드 주소 : https://www.instagram.com/explore/tags/leagueoflegends_arts/\n",
      "게시물 16,322\n",
      "--------------------------------------------------\n",
      "검색된 키워드 : #leagueoflegendsfunnyvideos\n",
      "키워드 주소 : https://www.instagram.com/explore/tags/leagueoflegendsfunnyvideos/\n",
      "게시물 15,047\n",
      "--------------------------------------------------\n",
      "검색된 키워드 : #leagueoflegendschile\n",
      "키워드 주소 : https://www.instagram.com/explore/tags/leagueoflegendschile/\n",
      "게시물 14,157\n",
      "--------------------------------------------------\n",
      "검색된 키워드 : #leagueoflegendslatinoamerica\n",
      "키워드 주소 : https://www.instagram.com/explore/tags/leagueoflegendslatinoamerica/\n",
      "게시물 9,757\n",
      "--------------------------------------------------\n",
      "검색된 키워드 : #leagueoflegendsturkiye\n",
      "키워드 주소 : https://www.instagram.com/explore/tags/leagueoflegendsturkiye/\n",
      "게시물 24,942\n",
      "--------------------------------------------------\n",
      "검색된 키워드 : #leagueoflegendscosplays\n",
      "키워드 주소 : https://www.instagram.com/explore/tags/leagueoflegendscosplays/\n",
      "게시물 23,209\n",
      "--------------------------------------------------\n",
      "검색된 키워드 : #leagueoflegendswildrift\n",
      "키워드 주소 : https://www.instagram.com/explore/tags/leagueoflegendswildrift/\n",
      "게시물 3,857\n",
      "--------------------------------------------------\n",
      "검색된 키워드 : #leagueoflegendsahri\n",
      "키워드 주소 : https://www.instagram.com/explore/tags/leagueoflegendsahri/\n",
      "게시물 17,881\n",
      "--------------------------------------------------\n",
      "검색된 키워드 : #leagueoflegendscosplayer\n",
      "키워드 주소 : https://www.instagram.com/explore/tags/leagueoflegendscosplayer/\n",
      "게시물 14,499\n",
      "--------------------------------------------------\n",
      "검색된 키워드 : #leagueoflegendsitalia\n",
      "키워드 주소 : https://www.instagram.com/explore/tags/leagueoflegendsitalia/\n",
      "게시물 10,451\n",
      "--------------------------------------------------\n",
      "검색된 키워드 : #leagueoflegendsargentina\n",
      "키워드 주소 : https://www.instagram.com/explore/tags/leagueoflegendsargentina/\n",
      "게시물 10,299\n",
      "--------------------------------------------------\n",
      "검색된 키워드 : #leagueoflegendsmobile\n",
      "키워드 주소 : https://www.instagram.com/explore/tags/leagueoflegendsmobile/\n",
      "게시물 3,167\n",
      "--------------------------------------------------\n",
      "검색된 키워드 : #leagueoflegendsedits\n",
      "키워드 주소 : https://www.instagram.com/explore/tags/leagueoflegendsedits/\n",
      "게시물 2,932\n",
      "--------------------------------------------------\n",
      "검색된 키워드 : #leagueoflegendsclips\n",
      "키워드 주소 : https://www.instagram.com/explore/tags/leagueoflegendsclips/\n",
      "게시물 9,116\n",
      "--------------------------------------------------\n",
      "검색된 키워드 : #leagueoflegendshighlights\n",
      "키워드 주소 : https://www.instagram.com/explore/tags/leagueoflegendshighlights/\n",
      "게시물 10,526\n",
      "--------------------------------------------------\n",
      "검색된 키워드 : #leagueoflegendsfanarts\n",
      "키워드 주소 : https://www.instagram.com/explore/tags/leagueoflegendsfanarts/\n",
      "게시물 9,612\n",
      "--------------------------------------------------\n",
      "검색된 키워드 : #leagueoflegendsgiveaway\n",
      "키워드 주소 : https://www.instagram.com/explore/tags/leagueoflegendsgiveaway/\n",
      "게시물 8,110\n",
      "--------------------------------------------------\n",
      "검색된 키워드 : #leagueoflegendsfacts\n",
      "키워드 주소 : https://www.instagram.com/explore/tags/leagueoflegendsfacts/\n",
      "게시물 5,129\n",
      "--------------------------------------------------\n",
      "검색된 키워드 : #leagueoflegendsespañol\n",
      "키워드 주소 : https://www.instagram.com/explore/tags/leagueoflegendsespañol/\n",
      "게시물 6,128\n",
      "--------------------------------------------------\n",
      "검색된 키워드 : #leagueoflegendsindonesia\n",
      "키워드 주소 : https://www.instagram.com/explore/tags/leagueoflegendsindonesia/\n",
      "게시물 5,324\n",
      "--------------------------------------------------\n",
      "검색된 키워드 : #leagueoflegendsvines\n",
      "키워드 주소 : https://www.instagram.com/explore/tags/leagueoflegendsvines/\n",
      "게시물 18,895\n",
      "--------------------------------------------------\n",
      "검색된 키워드 : #leagueoflegendstürkiye\n",
      "키워드 주소 : https://www.instagram.com/explore/tags/leagueoflegendstürkiye/\n",
      "게시물 12,293\n",
      "--------------------------------------------------\n",
      "검색된 키워드 : #leagueoflegendsjinx\n",
      "키워드 주소 : https://www.instagram.com/explore/tags/leagueoflegendsjinx/\n",
      "게시물 10,145\n",
      "--------------------------------------------------\n",
      "검색된 키워드 : #leagueoflegendslux\n",
      "키워드 주소 : https://www.instagram.com/explore/tags/leagueoflegendslux/\n",
      "게시물 8,033\n",
      "--------------------------------------------------\n",
      "검색된 키워드 : #leagueoflegendsespaña\n",
      "키워드 주소 : https://www.instagram.com/explore/tags/leagueoflegendsespaña/\n",
      "게시물 5,095\n",
      "--------------------------------------------------\n",
      "검색된 키워드 : #leagueoflegendscomic\n",
      "키워드 주소 : https://www.instagram.com/explore/tags/leagueoflegendscomic/\n",
      "게시물 2,074\n",
      "--------------------------------------------------\n",
      "검색된 키워드 : #leagueoflegendsmontage\n",
      "키워드 주소 : https://www.instagram.com/explore/tags/leagueoflegendsmontage/\n",
      "게시물 5,817\n",
      "--------------------------------------------------\n",
      "검색된 키워드 : #leagueoflegendsgermany\n",
      "키워드 주소 : https://www.instagram.com/explore/tags/leagueoflegendsgermany/\n",
      "게시물 4,964\n",
      "--------------------------------------------------\n",
      "검색된 키워드 : #leagueoflegendsskin\n",
      "키워드 주소 : https://www.instagram.com/explore/tags/leagueoflegendsskin/\n",
      "게시물 12,771\n",
      "--------------------------------------------------\n",
      "검색된 키워드 : #leagueoflegendsturkey\n",
      "키워드 주소 : https://www.instagram.com/explore/tags/leagueoflegendsturkey/\n",
      "게시물 10,398\n",
      "--------------------------------------------------\n"
     ]
    }
   ],
   "source": [
    "url_main = 'https://www.instagram.com'\n",
    "for index in range(len(keywords)):\n",
    "    print(\"검색된 키워드 :\",keywords[index].text)\n",
    "    print('키워드 주소 :',url_main+new_hrefs[index]['href'])\n",
    "    print(boardNum[index].text)\n",
    "    print('-'*50)"
   ]
  },
  {
   "cell_type": "markdown",
   "metadata": {},
   "source": [
    "## 첫번째 태그 들어가보기"
   ]
  },
  {
   "cell_type": "code",
   "execution_count": 63,
   "metadata": {},
   "outputs": [],
   "source": [
    "driver.get(url_main+new_hrefs[0]['href'])\n",
    "time.sleep(3)"
   ]
  },
  {
   "cell_type": "markdown",
   "metadata": {},
   "source": [
    "### 첫 번째 게시글 클릭"
   ]
  },
  {
   "cell_type": "code",
   "execution_count": 13,
   "metadata": {},
   "outputs": [],
   "source": [
    "btn_board = driver.find_element_by_class_name('eLAPa')#v1Nh3도 가능\n",
    "btn_board.click()"
   ]
  },
  {
   "cell_type": "code",
   "execution_count": 14,
   "metadata": {},
   "outputs": [],
   "source": [
    "soup = bs(driver.page_source,'html.parser')"
   ]
  },
  {
   "cell_type": "markdown",
   "metadata": {},
   "source": [
    "### 작성자, 댓글 가지고오기"
   ]
  },
  {
   "cell_type": "code",
   "execution_count": 18,
   "metadata": {},
   "outputs": [
    {
     "name": "stdout",
     "output_type": "stream",
     "text": [
      "작성자 :  ru_da_0427\n",
      "댓글 작성자 및 개수 : 7 7\n"
     ]
    }
   ],
   "source": [
    "#작성자\n",
    "writer = soup.find('a',class_='sqdOP')\n",
    "\n",
    "#댓글작성자, 댓글내용\n",
    "commenters = soup.findAll('a',class_=\"sqdOP\")[1:] #첫번째사람은 작성자니 제외\n",
    "comments = soup.select('._6lAjh + span')\n",
    "\n",
    "print(\"작성자 : \",writer.text)\n",
    "print(\"댓글 작성자 및 개수 :\",len(commenters),len(comments))"
   ]
  },
  {
   "cell_type": "code",
   "execution_count": 19,
   "metadata": {},
   "outputs": [
    {
     "name": "stdout",
     "output_type": "stream",
     "text": [
      "작성자 : ru_da_0427\n",
      "댓글 : 모든걸 다이루고 이루쟈🌸\n",
      "------------------------------\n",
      "작성자 : ru_da_0427\n",
      "댓글 : #ootd #instagood #instadaily #selfie #selca #daily #streetfashion #f4f #광주 #충장로 #구시청 #상무지구 #동명동 #산수동\n",
      "------------------------------\n",
      "작성자 : hyeee_____7\n",
      "댓글 : 모냐 너 긴머리\n",
      "------------------------------\n",
      "작성자 : hyeee_____7\n",
      "댓글 : 내 머리길이보다 더 길면 어케된다 햇서 자기?\n",
      "------------------------------\n",
      "작성자 : salagadoolaaa\n",
      "댓글 : 이빨 부순다\n",
      "------------------------------\n",
      "작성자 : gi_vely\n",
      "댓글 : 절레절레\n",
      "------------------------------\n",
      "작성자 : m_ujin__\n",
      "댓글 : ㅋㅋㅋㅋㅋ예쁘쎠용 👍🏻👍🏻\n",
      "------------------------------\n"
     ]
    }
   ],
   "source": [
    "for index in range(len(commenters)):\n",
    "    print('작성자 :',commenters[index].text)\n",
    "    print('댓글 :',comments[index].text)\n",
    "    print('-'*30)"
   ]
  },
  {
   "cell_type": "markdown",
   "metadata": {},
   "source": [
    "### 작성자, 댓글 가져오기 함수로 만들기"
   ]
  },
  {
   "cell_type": "code",
   "execution_count": 22,
   "metadata": {},
   "outputs": [],
   "source": [
    "def comment_def():\n",
    "    #현재 페이지로 긁어오기\n",
    "    soup = bs(driver.page_source,'html.parser')\n",
    "    \n",
    "    #작성자\n",
    "    writer = soup.find('a',class_='sqdOP')\n",
    "\n",
    "    #댓글작성자, 댓글내용\n",
    "    commenters = soup.findAll('a',class_=\"sqdOP\")[1:]\n",
    "    comments = soup.select('._6lAjh + span')\n",
    "\n",
    "    for index in range(len(commenters)):\n",
    "        print('작성자 :',commenters[index].text)\n",
    "        print('댓글 :',comments[index].text)\n",
    "        print('-'*30)"
   ]
  },
  {
   "cell_type": "code",
   "execution_count": 33,
   "metadata": {},
   "outputs": [],
   "source": [
    "comment_def()"
   ]
  },
  {
   "cell_type": "markdown",
   "metadata": {},
   "source": [
    "### 옆으로 넘기기 함수"
   ]
  },
  {
   "cell_type": "code",
   "execution_count": 37,
   "metadata": {},
   "outputs": [],
   "source": [
    "def nextMove():\n",
    "    driver.find_element_by_class_name('_65Bje').click()\n",
    "    time.sleep(2)"
   ]
  },
  {
   "cell_type": "code",
   "execution_count": 38,
   "metadata": {},
   "outputs": [],
   "source": [
    "nextMove()"
   ]
  },
  {
   "cell_type": "markdown",
   "metadata": {},
   "source": [
    "## 자동으로 넘어가면서 긁어오기"
   ]
  },
  {
   "cell_type": "code",
   "execution_count": 39,
   "metadata": {},
   "outputs": [
    {
     "name": "stdout",
     "output_type": "stream",
     "text": [
      "작성자 : sp2ar\n",
      "댓글 : 여름코디와 찰떡이스궁합인 팬츠여기요,#남자팬츠 #남자면팬츠\n",
      "------------------------------\n",
      "작성자 : sp2ar\n",
      "댓글 : #인스타그램 #셀카 #셀스타그램 #데일리 #얼스타그램 #전신샷 #오오티디 #블로그 #맞팔 #소통환영 #소통 #좋아요 #인친환영 #일상 #선팔하면맞팔 #카페투어 #맛집 #댓글 #좋아요반사 #인친 #광주 #동명동 #상무지구 #양림동 #대구 #동성로 #가로수길\n",
      "------------------------------\n",
      "작성자 : jun._.wns\n",
      "댓글 : 👾\n",
      "------------------------------\n",
      "작성자 : jun._.wns\n",
      "댓글 : 👾\n",
      "------------------------------\n",
      "작성자 : alswnsxovcy\n",
      "댓글 : @alswnsxy_ 여기로 좋반와주세용\n",
      "------------------------------\n",
      "작성자 : jubilee_03\n",
      "댓글 : 좋반해주세요오 ❤\n",
      "------------------------------\n",
      "작성자 : rabyeol.unnie2\n",
      "댓글 : 안녕하세요 헬시디렉터 박슬기입니다😊 좋은 제안 해드리려는데 소통 가능하세요?\n",
      "------------------------------\n",
      "작성자 : hellll_rr\n",
      "댓글 : 오\n",
      "------------------------------\n",
      "작성자 : _gyu_0_\n",
      "댓글 : 애긔누\n",
      "------------------------------\n",
      "작성자 : kossssssssii\n",
      "댓글 : 세차장인 빨간목장갑씨\n",
      "------------------------------\n",
      "작성자 : kossssssssii\n",
      "댓글 : 🚒\n",
      "------------------------------\n",
      "작성자 : kossssssssii\n",
      "댓글 : 👨‍🚒\n",
      "------------------------------\n",
      "작성자 : king_god_koon94\n",
      "댓글 : 굿\n",
      "------------------------------\n",
      "작성자 : jeannemoreau_official\n",
      "댓글 : ✔️꽃나염 원피스(베이지)• 아름다워요~.......#데일리#모던룩#모던시크#데일리룩#세미모던#셀카#소통#dailylook #selfie#fashion#지니모로#광주#상무지구#상무지구옷가게#상무지구수제화#2020ss#수입보세#치평동#광주여자옷가게#여름패션#광주카페#패션#풍암동#동명동#수완지구#나염원피스#쉬폰원피스#맥시롱원피스#ops\n",
      "------------------------------\n",
      "작성자 : bysubi\n",
      "댓글 : .제주도2일차 ....#제주도 #여행 #럽스타그램\n",
      "------------------------------\n",
      "작성자 : bysubi\n",
      "댓글 : ❤️\n",
      "------------------------------\n",
      "작성자 : mg_wee\n",
      "댓글 : 보기좋노~\n",
      "------------------------------\n",
      "작성자 : moon_j_in\n",
      "댓글 : #디자이어\n",
      "------------------------------\n",
      "작성자 : moon_j_in\n",
      "댓글 : ☕️\n",
      "------------------------------\n",
      "작성자 : ung_look\n",
      "댓글 : 존잘이시네요👏👏\n",
      "------------------------------\n",
      "작성자 : tinhhair_ung\n",
      "댓글 : 마스크가 아쉽ㄷ\n",
      "------------------------------\n",
      "작성자 : tinhhair_ung\n",
      "댓글 : .\n",
      "------------------------------\n",
      "작성자 : kimhxxna\n",
      "댓글 : 좋반해여\n",
      "------------------------------\n",
      "작성자 : j.melloww\n",
      "댓글 : .벚꽃 총총🌸\n",
      "------------------------------\n",
      "작성자 : j.melloww\n",
      "댓글 : #데일리#데일리룩#일상#오오티디#오늘의코디#셀카#셀피#셀스타그램#셀기꾼#selfie#instagood#l4l#광주#충장로#양림동#동명동#광주카페#광주카페추천#담양카페#나주카페#하객룩#여자하객룩#프렌치시크룩#모던베이직#좋아요#여행#여행스타그램\n",
      "------------------------------\n",
      "작성자 : chung_nam_kim\n",
      "댓글 : #첫줄생략 ......#정동진 #햄버거맛집 #남은건사진뿐\n",
      "------------------------------\n",
      "작성자 : chung_nam_kim\n",
      "댓글 : #selca #selpe #daily #dailylook #ootd #일상 #셀카 #셀스타그램 #셀카그램 #얼스타그램 #셀피 #데일리 #데일리룩 #오오티디 #광주 #상무지구 #동명동 #선팔 #맞팔 #팔로우 #팔로워 #좋아요반사\n",
      "------------------------------\n",
      "작성자 : su_bly00\n",
      "댓글 : 저기호텔ㄹ 존좋이라던뎌\n",
      "------------------------------\n",
      "작성자 : jih_yeon\n",
      "댓글 : 맞팔해요 ~*\n",
      "------------------------------\n"
     ]
    }
   ],
   "source": [
    "for i in range(10):\n",
    "    nextMove()\n",
    "    comment_def()"
   ]
  },
  {
   "cell_type": "markdown",
   "metadata": {
    "collapsed": true
   },
   "source": [
    "# 해시태그만 긁어오기"
   ]
  },
  {
   "cell_type": "code",
   "execution_count": 40,
   "metadata": {},
   "outputs": [],
   "source": [
    "\"\"\"해시태그에 띄어쓰기가 없는경우 문제가 있음\"\"\"\n",
    "def comment_hash_def():\n",
    "    #현재 페이지로 긁어오기\n",
    "    soup = bs(driver.page_source,'html.parser')\n",
    "    \n",
    "    #모든 댓글 긁어오기 해시태그 위치가 항상 다름\n",
    "    comments = soup.select('._6lAjh + span')\n",
    "    \n",
    "    hashtag = []\n",
    "    for comment in comments:\n",
    "        #띄어쓰기 기준으로 자르기\n",
    "        words = comment.text.split()\n",
    "\n",
    "        for word in words:\n",
    "            #'#'이 있는것만 가져오기\n",
    "            if '#' in word:\n",
    "                #print(word)\n",
    "                hashtag.append(word)\n",
    "                \n",
    "    return hashtag\n"
   ]
  },
  {
   "cell_type": "code",
   "execution_count": 42,
   "metadata": {},
   "outputs": [
    {
     "data": {
      "text/plain": [
       "['#광주#맛집#광주맛집#동명동#동지구#일상#소통']"
      ]
     },
     "execution_count": 42,
     "metadata": {},
     "output_type": "execute_result"
    }
   ],
   "source": [
    "#리스트로 반환\n",
    "comment_hash_def() "
   ]
  },
  {
   "cell_type": "code",
   "execution_count": 43,
   "metadata": {},
   "outputs": [
    {
     "name": "stdout",
     "output_type": "stream",
     "text": [
      "보아요.......#데일리#모던룩#모던시크#데일리룩#세미모던#셀카#소통#dailylook\n",
      "#selfie#fashion#지니모로#광주#상무지구#상무지구옷가게#상무지구수제화#2020ss#수입보세#치평동#광주여자옷가게#여름패션#광주카페#패션#풍암동#동명동#수완지구#쉬폰원피스#나염원피스#플라워원피스#원피스추천\n",
      "이렇게☀️.#광주\n",
      "#전남대\n",
      "#전남대후문\n",
      "#동명동\n",
      "#상무지구\n",
      "#일상\n",
      "#데일리\n",
      "#데일리룩\n",
      "#좋아요\n",
      "#좋아요반사\n",
      "#fff\n",
      "#daily\n",
      "#dailylook\n",
      "#좋아요반사\n",
      "#팔로우\n",
      "#맞팔\n",
      "#카페\n",
      "#selca#selfie#일상#셀피#셀스타그램#셀카#얼스타그램#데일리#소통#광주#선팔#맞팔#동명동#상무지구#동성로#서면#이태원#인친#홍대#전대후문#좋반#좋아요반사#follow#동명동카페#광주카페#fff#ootd#87mm#옷스타그램\n"
     ]
    }
   ],
   "source": [
    "\"\"\"이동하면서 해시태그 수집\"\"\"\n",
    "for i in range(5):\n",
    "    nextMove()\n",
    "    for tag in comment_hash_def():\n",
    "        print(tag)"
   ]
  },
  {
   "cell_type": "markdown",
   "metadata": {},
   "source": [
    "# 해시태그 완벽하게 가져오기"
   ]
  },
  {
   "cell_type": "code",
   "execution_count": 44,
   "metadata": {},
   "outputs": [],
   "source": [
    "\"\"\"띄어쓰기가 안되어있는 문제 해결 tag_preprocessiong\"\"\"\n",
    "def tag_preprocessiong(ss):\n",
    "    \n",
    "    tag_list = []\n",
    "    for s in ss:\n",
    "        while True:\n",
    "            hash1 = s.find(\"#\")#첫번째 #\n",
    "            hash2 = s.find(\"#\",hash1+1)# 첫번째 # 이후 다음 # 찾아보기\n",
    "            \n",
    "            if hash2==-1:\n",
    "                tag_list.append(s[hash1:].strip())\n",
    "            else:\n",
    "                tag_list.append(s[hash1:hash2].strip())\n",
    "            \n",
    "            s = s[hash2:]\n",
    "\n",
    "            if len(s)==1:\n",
    "                break\n",
    "    return tag_list\n",
    "\n",
    "def comment_hash_def():\n",
    "    #현재 페이지로 긁어오기\n",
    "    soup = bs(driver.page_source,'html.parser')\n",
    "    \n",
    "    #모든 댓글 긁어오기 해시태그 위치가 항상 다름\n",
    "    comments = soup.select('._6lAjh + span')\n",
    "    \n",
    "    hashtag = []\n",
    "    for comment in comments:\n",
    "        #띄어쓰기 기준으로 자르기\n",
    "        word_split = comment.text.split()\n",
    "        \n",
    "        # 위의함수추가\n",
    "        words = tag_preprocessiong(word_split)\n",
    "        \n",
    "        for word in words:\n",
    "            #'#'이 있는것만 가져오기\n",
    "            if '#' in word:\n",
    "                #print(word)\n",
    "                hashtag.append(word)\n",
    "                \n",
    "    return hashtag"
   ]
  },
  {
   "cell_type": "code",
   "execution_count": 47,
   "metadata": {},
   "outputs": [
    {
     "data": {
      "text/plain": [
       "['#광주',\n",
       " '#전남대',\n",
       " '#전남대후문',\n",
       " '#동명동',\n",
       " '#상무지구',\n",
       " '#일상',\n",
       " '#데일리',\n",
       " '#데일리룩',\n",
       " '#좋아요',\n",
       " '#좋아요반사',\n",
       " '#fff',\n",
       " '#daily',\n",
       " '#dailylook',\n",
       " '#좋아요반사',\n",
       " '#팔로우',\n",
       " '#맞팔',\n",
       " '#카페']"
      ]
     },
     "execution_count": 47,
     "metadata": {},
     "output_type": "execute_result"
    }
   ],
   "source": [
    "comment_hash_def()"
   ]
  },
  {
   "cell_type": "code",
   "execution_count": 99,
   "metadata": {},
   "outputs": [
    {
     "name": "stdout",
     "output_type": "stream",
     "text": [
      "#어나더키친-🏆맛도\n",
      "#광주맛집\n",
      "#상무지구맛집\n",
      "#충장로맛집\n",
      "#수완지구맛집추천\n",
      "#나주맛집\n",
      "#나주혁신도시맛집\n",
      "#봉명동맛집\n",
      "#광주스테이크맛집\n",
      "#광주맛집추천\n",
      "#광주데이트\n",
      "#동명동맛집\n",
      "#광주레스토랑\n",
      "#광주데이트코스\n",
      "#광주스테이크집\n",
      "#광주핫플\n",
      "#광주맛집\n",
      "#광주카페안들리면\n",
      "#광주핫플\n",
      "#조대후문\n",
      "#쌍촌동맛집\n",
      "#상무지구맛집\n",
      "#상무지구카페\n",
      "#충장로맛집\n",
      "#광주술집\n",
      "#광주맛집\n",
      "#광주카페\n",
      "#양림동맛집\n",
      "#맞팔\n",
      "#담양카페\n",
      "#광주데이트\n",
      "#광주여행.안가면\n",
      "#광주맛집\n",
      "#동명동\n",
      "#사이공장\n",
      "#헤이니의먹방\n",
      "#먹스타그램\n",
      "#맛스타그램\n",
      "#광주\n",
      "#광주맛집\n",
      "#동명동맛집\n",
      "#동명동점심\n",
      "#동명동데이트\n",
      "#동명동데이트코스\n",
      "#일상\n",
      "#음식\n",
      "#먹방\n",
      "#좋아요\n",
      "#동명동\n",
      "#동띵동\n",
      "#동명동맛집\n",
      "#동명동카페\n",
      "#동명동카페추천\n",
      "#동명동핫플\n",
      "#오버롤\n",
      "#overall\n",
      "#희진카페투어☕️\n"
     ]
    }
   ],
   "source": [
    "\"\"\"이동하면서 해시태그 수집\"\"\"\n",
    "for i in range(5):\n",
    "    nextMove()\n",
    "    for tag in comment_hash_def():\n",
    "        print(tag)"
   ]
  }
 ],
 "metadata": {
  "kernelspec": {
   "display_name": "Python 3",
   "language": "python",
   "name": "python3"
  },
  "language_info": {
   "codemirror_mode": {
    "name": "ipython",
    "version": 3
   },
   "file_extension": ".py",
   "mimetype": "text/x-python",
   "name": "python",
   "nbconvert_exporter": "python",
   "pygments_lexer": "ipython3",
   "version": "3.7.6"
  }
 },
 "nbformat": 4,
 "nbformat_minor": 2
}
