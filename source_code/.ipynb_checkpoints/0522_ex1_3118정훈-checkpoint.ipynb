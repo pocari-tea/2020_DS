{
 "cells": [
  {
   "cell_type": "code",
   "execution_count": null,
   "metadata": {
    "scrolled": false
   },
   "outputs": [],
   "source": [
    "from urllib.request import urlopen\n",
    "from bs4 import BeautifulSoup\n",
    "\n",
    "url = \"https://www.innogov.go.kr/ucms/ogp/sug/list.do?pnum=1&menuNo=300011\"\n",
    "html = urlopen(url)\n",
    "soup   = BeautifulSoup(html, \"html.parser\") \n",
    "# print(soup.prettify())\n",
    "# result = soup.select_one(\"#content > div.suggestion_list > ul > li > dl > dt > p > a\")\n",
    "# print(\"제목: \", result.string)\n",
    "# print(\"링크: \", result.attrs[\"href\"])\n",
    "\n",
    "results = soup.select(\"#content > div.suggestion_list > ul > li > dl > dt > p > a\")\n",
    "for i in results:\n",
    "    print(\"제목: \", i.string)\n",
    "    print(\"링크: \", i.attrs[\"href\"])\n",
    "    print(\"\")"
   ]
  },
  {
   "cell_type": "code",
   "execution_count": null,
   "metadata": {},
   "outputs": [],
   "source": [
    "name = '정훈'\n",
    "year = 19\n",
    "print(\"%s 나이는 %d살이다\" %(name, year))\n",
    "print(\"{} 나이는 {}살이다.\".format(name, year))\n",
    "print(\"{name} 나이는 {year}살이다\")"
   ]
  },
  {
   "cell_type": "code",
   "execution_count": null,
   "metadata": {},
   "outputs": [],
   "source": []
  },
  {
   "cell_type": "code",
   "execution_count": null,
   "metadata": {},
   "outputs": [],
   "source": [
    "from urllib.request import urlopen\n",
    "from bs4 import BeautifulSoup\n",
    "from urllib.parse import quote_plus\n",
    "\n",
    "search = input(\"검색어를 입력하세요: \")\n",
    "#search = quote_plus(input(\"검색어를 입력하세요: \"))\n",
    "i = input('몇 페이지까지 크롤링할까요?\\n')\n",
    "print(\"\\n\")\n",
    "num = 1\n",
    "lastnum = int(i) + 1\n",
    "\n",
    "while num < lastnum: \n",
    "    url = f\"https://www.innogov.go.kr/ucms/ogp/sug/list.do?pnum=%7Bnum%7D&menuNo=300011&cateCd=&status1Cd=&Status2Cd=&searchText=%7Bquote_plus(search)%7D&sugMonthTp=&orderKey=registDtDesc\"\n",
    "    html = urlopen(url)\n",
    "    soup   = BeautifulSoup(html, \"html.parser\") \n",
    "\n",
    "    results = soup.select(\"#content > div.suggestion_list > ul > li > dl > dt > p > a\")\n",
    "    for i in results:  \n",
    "        print(\"제목: \", i.string)\n",
    "        print(\"링크: \", i.attrs[\"href\"])\n",
    "        print(\"\")\n",
    "    print(\"페이지: \", num, \"\\n\\n\")\n",
    "    num += 1"
   ]
  },
  {
   "cell_type": "code",
   "execution_count": null,
   "metadata": {},
   "outputs": [],
   "source": []
  }
 ],
 "metadata": {
  "kernelspec": {
   "display_name": "Python 3",
   "language": "python",
   "name": "python3"
  },
  "language_info": {
   "codemirror_mode": {
    "name": "ipython",
    "version": 3
   },
   "file_extension": ".py",
   "mimetype": "text/x-python",
   "name": "python",
   "nbconvert_exporter": "python",
   "pygments_lexer": "ipython3",
   "version": "3.7.6"
  }
 },
 "nbformat": 4,
 "nbformat_minor": 4
}
